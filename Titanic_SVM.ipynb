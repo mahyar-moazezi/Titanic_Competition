{
 "cells": [
  {
   "cell_type": "markdown",
   "id": "96549a92",
   "metadata": {},
   "source": [
    "***Titanic Competition - Support Vector Machine***"
   ]
  },
  {
   "cell_type": "markdown",
   "id": "507df218",
   "metadata": {},
   "source": [
    "***Import Libraries***"
   ]
  },
  {
   "cell_type": "code",
   "execution_count": 68,
   "id": "854eacf6",
   "metadata": {},
   "outputs": [],
   "source": [
    "import numpy as np\n",
    "import pandas as pd\n",
    "import matplotlib.pyplot as plt\n",
    "import seaborn as sns\n",
    "%matplotlib inline"
   ]
  },
  {
   "cell_type": "markdown",
   "id": "171366d4",
   "metadata": {},
   "source": [
    "***Get Data***"
   ]
  },
  {
   "cell_type": "code",
   "execution_count": 69,
   "id": "b643bdc4",
   "metadata": {},
   "outputs": [],
   "source": [
    "data = pd.read_csv(\"./train.csv\")\n",
    "test= pd.read_csv(\"./test.csv\")"
   ]
  },
  {
   "cell_type": "markdown",
   "id": "1abe0ba6",
   "metadata": {},
   "source": [
    "***PassengerId holders***"
   ]
  },
  {
   "cell_type": "code",
   "execution_count": 70,
   "id": "182e309b",
   "metadata": {},
   "outputs": [],
   "source": [
    "test_pid = np.array(test[\"PassengerId\"])"
   ]
  },
  {
   "cell_type": "markdown",
   "id": "b21484c8",
   "metadata": {},
   "source": [
    "***Data Cleaning***"
   ]
  },
  {
   "cell_type": "code",
   "execution_count": 71,
   "id": "10567857",
   "metadata": {},
   "outputs": [],
   "source": [
    "def fill_age(cols):\n",
    "    Age = cols[0]\n",
    "    Pclass = cols[1]\n",
    "    \n",
    "    if pd.isnull(Age):\n",
    "        if Pclass == 1:\n",
    "            return 37\n",
    "        elif Pclass == 2:\n",
    "            return 29\n",
    "        elif Pclass == 3:\n",
    "            return 27\n",
    "    return Age\n",
    "data[\"Age\"] = data[[\"Age\",\"Pclass\"]].apply(fill_age,axis=1)\n",
    "test[\"Age\"] = test[[\"Age\",\"Pclass\"]].apply(fill_age,axis=1)\n",
    "data[\"Fare\"].fillna(data[\"Fare\"].mean(),inplace=True)\n",
    "test[\"Fare\"].fillna(test[\"Fare\"].mean(),inplace=True)"
   ]
  },
  {
   "cell_type": "code",
   "execution_count": 72,
   "id": "385320d8",
   "metadata": {},
   "outputs": [],
   "source": [
    "def data_cleaning(data):\n",
    "    df = data.drop([\"PassengerId\",\"Name\",\"Ticket\",\"Cabin\"])\n",
    "    return df\n",
    "\n",
    "data = data.apply(data_cleaning,axis=1)"
   ]
  },
  {
   "cell_type": "code",
   "execution_count": 73,
   "id": "5fbf040c",
   "metadata": {},
   "outputs": [],
   "source": [
    "def test_cleaning(test):\n",
    "    df_test = test.drop([\"PassengerId\",\"Name\",\"Ticket\",\"Cabin\"])\n",
    "    return df_test\n",
    "\n",
    "test = test.apply(test_cleaning,axis=1)\n"
   ]
  },
  {
   "cell_type": "markdown",
   "id": "f020711f",
   "metadata": {},
   "source": [
    "***String values to Numeric***"
   ]
  },
  {
   "cell_type": "code",
   "execution_count": 74,
   "id": "5904632a",
   "metadata": {},
   "outputs": [
    {
     "data": {
      "text/html": [
       "<div>\n",
       "<style scoped>\n",
       "    .dataframe tbody tr th:only-of-type {\n",
       "        vertical-align: middle;\n",
       "    }\n",
       "\n",
       "    .dataframe tbody tr th {\n",
       "        vertical-align: top;\n",
       "    }\n",
       "\n",
       "    .dataframe thead th {\n",
       "        text-align: right;\n",
       "    }\n",
       "</style>\n",
       "<table border=\"1\" class=\"dataframe\">\n",
       "  <thead>\n",
       "    <tr style=\"text-align: right;\">\n",
       "      <th></th>\n",
       "      <th>Survived</th>\n",
       "      <th>Pclass</th>\n",
       "      <th>Sex</th>\n",
       "      <th>Age</th>\n",
       "      <th>SibSp</th>\n",
       "      <th>Parch</th>\n",
       "      <th>Fare</th>\n",
       "      <th>Embarked</th>\n",
       "    </tr>\n",
       "  </thead>\n",
       "  <tbody>\n",
       "    <tr>\n",
       "      <th>0</th>\n",
       "      <td>0</td>\n",
       "      <td>3</td>\n",
       "      <td>1</td>\n",
       "      <td>22.0</td>\n",
       "      <td>1</td>\n",
       "      <td>0</td>\n",
       "      <td>7.2500</td>\n",
       "      <td>2</td>\n",
       "    </tr>\n",
       "    <tr>\n",
       "      <th>1</th>\n",
       "      <td>1</td>\n",
       "      <td>1</td>\n",
       "      <td>0</td>\n",
       "      <td>38.0</td>\n",
       "      <td>1</td>\n",
       "      <td>0</td>\n",
       "      <td>71.2833</td>\n",
       "      <td>0</td>\n",
       "    </tr>\n",
       "    <tr>\n",
       "      <th>2</th>\n",
       "      <td>1</td>\n",
       "      <td>3</td>\n",
       "      <td>0</td>\n",
       "      <td>26.0</td>\n",
       "      <td>0</td>\n",
       "      <td>0</td>\n",
       "      <td>7.9250</td>\n",
       "      <td>2</td>\n",
       "    </tr>\n",
       "    <tr>\n",
       "      <th>3</th>\n",
       "      <td>1</td>\n",
       "      <td>1</td>\n",
       "      <td>0</td>\n",
       "      <td>35.0</td>\n",
       "      <td>1</td>\n",
       "      <td>0</td>\n",
       "      <td>53.1000</td>\n",
       "      <td>2</td>\n",
       "    </tr>\n",
       "    <tr>\n",
       "      <th>4</th>\n",
       "      <td>0</td>\n",
       "      <td>3</td>\n",
       "      <td>1</td>\n",
       "      <td>35.0</td>\n",
       "      <td>0</td>\n",
       "      <td>0</td>\n",
       "      <td>8.0500</td>\n",
       "      <td>2</td>\n",
       "    </tr>\n",
       "  </tbody>\n",
       "</table>\n",
       "</div>"
      ],
      "text/plain": [
       "   Survived  Pclass  Sex   Age  SibSp  Parch     Fare  Embarked\n",
       "0         0       3    1  22.0      1      0   7.2500         2\n",
       "1         1       1    0  38.0      1      0  71.2833         0\n",
       "2         1       3    0  26.0      0      0   7.9250         2\n",
       "3         1       1    0  35.0      1      0  53.1000         2\n",
       "4         0       3    1  35.0      0      0   8.0500         2"
      ]
     },
     "execution_count": 74,
     "metadata": {},
     "output_type": "execute_result"
    }
   ],
   "source": [
    "from sklearn.preprocessing import LabelEncoder\n",
    "le = LabelEncoder()\n",
    "cols = [\"Sex\",\"Embarked\"]\n",
    "for col in cols:\n",
    "    data[col] = le.fit_transform(data[col])\n",
    "    test[col] = le.transform(test[col])\n",
    "data.head()"
   ]
  },
  {
   "cell_type": "markdown",
   "id": "90f595b2",
   "metadata": {},
   "source": [
    "***Train Test Split***"
   ]
  },
  {
   "cell_type": "code",
   "execution_count": 75,
   "id": "60de258c",
   "metadata": {},
   "outputs": [],
   "source": [
    "from sklearn.model_selection import train_test_split\n",
    "X = data.drop(\"Survived\",axis=1)\n",
    "y = data[\"Survived\"]\n",
    "X_train, X_test, y_train, y_test = train_test_split(X, y, test_size=0.33, random_state=42)"
   ]
  },
  {
   "cell_type": "markdown",
   "id": "d7db7438",
   "metadata": {},
   "source": [
    "***Train the model with SVM Method***"
   ]
  },
  {
   "cell_type": "code",
   "execution_count": 76,
   "id": "b9f989a9",
   "metadata": {},
   "outputs": [
    {
     "data": {
      "text/html": [
       "<style>#sk-container-id-12 {color: black;background-color: white;}#sk-container-id-12 pre{padding: 0;}#sk-container-id-12 div.sk-toggleable {background-color: white;}#sk-container-id-12 label.sk-toggleable__label {cursor: pointer;display: block;width: 100%;margin-bottom: 0;padding: 0.3em;box-sizing: border-box;text-align: center;}#sk-container-id-12 label.sk-toggleable__label-arrow:before {content: \"▸\";float: left;margin-right: 0.25em;color: #696969;}#sk-container-id-12 label.sk-toggleable__label-arrow:hover:before {color: black;}#sk-container-id-12 div.sk-estimator:hover label.sk-toggleable__label-arrow:before {color: black;}#sk-container-id-12 div.sk-toggleable__content {max-height: 0;max-width: 0;overflow: hidden;text-align: left;background-color: #f0f8ff;}#sk-container-id-12 div.sk-toggleable__content pre {margin: 0.2em;color: black;border-radius: 0.25em;background-color: #f0f8ff;}#sk-container-id-12 input.sk-toggleable__control:checked~div.sk-toggleable__content {max-height: 200px;max-width: 100%;overflow: auto;}#sk-container-id-12 input.sk-toggleable__control:checked~label.sk-toggleable__label-arrow:before {content: \"▾\";}#sk-container-id-12 div.sk-estimator input.sk-toggleable__control:checked~label.sk-toggleable__label {background-color: #d4ebff;}#sk-container-id-12 div.sk-label input.sk-toggleable__control:checked~label.sk-toggleable__label {background-color: #d4ebff;}#sk-container-id-12 input.sk-hidden--visually {border: 0;clip: rect(1px 1px 1px 1px);clip: rect(1px, 1px, 1px, 1px);height: 1px;margin: -1px;overflow: hidden;padding: 0;position: absolute;width: 1px;}#sk-container-id-12 div.sk-estimator {font-family: monospace;background-color: #f0f8ff;border: 1px dotted black;border-radius: 0.25em;box-sizing: border-box;margin-bottom: 0.5em;}#sk-container-id-12 div.sk-estimator:hover {background-color: #d4ebff;}#sk-container-id-12 div.sk-parallel-item::after {content: \"\";width: 100%;border-bottom: 1px solid gray;flex-grow: 1;}#sk-container-id-12 div.sk-label:hover label.sk-toggleable__label {background-color: #d4ebff;}#sk-container-id-12 div.sk-serial::before {content: \"\";position: absolute;border-left: 1px solid gray;box-sizing: border-box;top: 0;bottom: 0;left: 50%;z-index: 0;}#sk-container-id-12 div.sk-serial {display: flex;flex-direction: column;align-items: center;background-color: white;padding-right: 0.2em;padding-left: 0.2em;position: relative;}#sk-container-id-12 div.sk-item {position: relative;z-index: 1;}#sk-container-id-12 div.sk-parallel {display: flex;align-items: stretch;justify-content: center;background-color: white;position: relative;}#sk-container-id-12 div.sk-item::before, #sk-container-id-12 div.sk-parallel-item::before {content: \"\";position: absolute;border-left: 1px solid gray;box-sizing: border-box;top: 0;bottom: 0;left: 50%;z-index: -1;}#sk-container-id-12 div.sk-parallel-item {display: flex;flex-direction: column;z-index: 1;position: relative;background-color: white;}#sk-container-id-12 div.sk-parallel-item:first-child::after {align-self: flex-end;width: 50%;}#sk-container-id-12 div.sk-parallel-item:last-child::after {align-self: flex-start;width: 50%;}#sk-container-id-12 div.sk-parallel-item:only-child::after {width: 0;}#sk-container-id-12 div.sk-dashed-wrapped {border: 1px dashed gray;margin: 0 0.4em 0.5em 0.4em;box-sizing: border-box;padding-bottom: 0.4em;background-color: white;}#sk-container-id-12 div.sk-label label {font-family: monospace;font-weight: bold;display: inline-block;line-height: 1.2em;}#sk-container-id-12 div.sk-label-container {text-align: center;}#sk-container-id-12 div.sk-container {/* jupyter's `normalize.less` sets `[hidden] { display: none; }` but bootstrap.min.css set `[hidden] { display: none !important; }` so we also need the `!important` here to be able to override the default hidden behavior on the sphinx rendered scikit-learn.org. See: https://github.com/scikit-learn/scikit-learn/issues/21755 */display: inline-block !important;position: relative;}#sk-container-id-12 div.sk-text-repr-fallback {display: none;}</style><div id=\"sk-container-id-12\" class=\"sk-top-container\"><div class=\"sk-text-repr-fallback\"><pre>SVC(C=100, gamma=0.001)</pre><b>In a Jupyter environment, please rerun this cell to show the HTML representation or trust the notebook. <br />On GitHub, the HTML representation is unable to render, please try loading this page with nbviewer.org.</b></div><div class=\"sk-container\" hidden><div class=\"sk-item\"><div class=\"sk-estimator sk-toggleable\"><input class=\"sk-toggleable__control sk-hidden--visually\" id=\"sk-estimator-id-26\" type=\"checkbox\" checked><label for=\"sk-estimator-id-26\" class=\"sk-toggleable__label sk-toggleable__label-arrow\">SVC</label><div class=\"sk-toggleable__content\"><pre>SVC(C=100, gamma=0.001)</pre></div></div></div></div></div>"
      ],
      "text/plain": [
       "SVC(C=100, gamma=0.001)"
      ]
     },
     "execution_count": 76,
     "metadata": {},
     "output_type": "execute_result"
    }
   ],
   "source": [
    "from sklearn.svm import SVC\n",
    "svc_model = SVC(C=100,gamma=0.001)\n",
    "svc_model.fit(X_train,y_train)"
   ]
  },
  {
   "cell_type": "markdown",
   "id": "8a4e8de9",
   "metadata": {},
   "source": [
    "***Prediction***"
   ]
  },
  {
   "cell_type": "code",
   "execution_count": 77,
   "id": "84de3f5b",
   "metadata": {},
   "outputs": [],
   "source": [
    "predictions = svc_model.predict(X_test)"
   ]
  },
  {
   "cell_type": "markdown",
   "id": "9833d4b2",
   "metadata": {},
   "source": [
    "***Evaluation***"
   ]
  },
  {
   "cell_type": "code",
   "execution_count": 78,
   "id": "c262949e",
   "metadata": {},
   "outputs": [
    {
     "name": "stdout",
     "output_type": "stream",
     "text": [
      "              precision    recall  f1-score   support\n",
      "\n",
      "           0       0.81      0.86      0.83       175\n",
      "           1       0.78      0.70      0.74       120\n",
      "\n",
      "    accuracy                           0.80       295\n",
      "   macro avg       0.79      0.78      0.79       295\n",
      "weighted avg       0.80      0.80      0.79       295\n",
      "\n"
     ]
    }
   ],
   "source": [
    "from sklearn.metrics import classification_report,confusion_matrix\n",
    "print(classification_report(y_test,predictions))"
   ]
  },
  {
   "cell_type": "markdown",
   "id": "a8efe45d",
   "metadata": {},
   "source": [
    "***Gridsearch Practice to find the best values for C and gamma***"
   ]
  },
  {
   "cell_type": "code",
   "execution_count": 79,
   "id": "fd0eab31",
   "metadata": {},
   "outputs": [],
   "source": [
    "from sklearn.model_selection import GridSearchCV\n",
    "params = {\"C\" : [0.1,1,10,100], \"gamma\":[1,0.1,0.001,0.001]}\n",
    "gs = GridSearchCV(SVC(),params,verbose=3)"
   ]
  },
  {
   "cell_type": "code",
   "execution_count": 80,
   "id": "9ab7ea9c",
   "metadata": {},
   "outputs": [
    {
     "name": "stdout",
     "output_type": "stream",
     "text": [
      "Fitting 5 folds for each of 16 candidates, totalling 80 fits\n",
      "[CV 1/5] END ....................C=0.1, gamma=1;, score=0.625 total time=   0.0s\n",
      "[CV 2/5] END ....................C=0.1, gamma=1;, score=0.630 total time=   0.0s\n",
      "[CV 3/5] END ....................C=0.1, gamma=1;, score=0.630 total time=   0.0s\n",
      "[CV 4/5] END ....................C=0.1, gamma=1;, score=0.630 total time=   0.0s\n",
      "[CV 5/5] END ....................C=0.1, gamma=1;, score=0.622 total time=   0.0s\n",
      "[CV 1/5] END ..................C=0.1, gamma=0.1;, score=0.625 total time=   0.0s\n",
      "[CV 2/5] END ..................C=0.1, gamma=0.1;, score=0.630 total time=   0.0s\n",
      "[CV 3/5] END ..................C=0.1, gamma=0.1;, score=0.630 total time=   0.0s\n",
      "[CV 4/5] END ..................C=0.1, gamma=0.1;, score=0.630 total time=   0.0s\n",
      "[CV 5/5] END ..................C=0.1, gamma=0.1;, score=0.622 total time=   0.0s\n",
      "[CV 1/5] END ................C=0.1, gamma=0.001;, score=0.642 total time=   0.0s\n",
      "[CV 2/5] END ................C=0.1, gamma=0.001;, score=0.647 total time=   0.0s\n",
      "[CV 3/5] END ................C=0.1, gamma=0.001;, score=0.622 total time=   0.0s\n",
      "[CV 4/5] END ................C=0.1, gamma=0.001;, score=0.639 total time=   0.0s\n",
      "[CV 5/5] END ................C=0.1, gamma=0.001;, score=0.664 total time=   0.0s\n",
      "[CV 1/5] END ................C=0.1, gamma=0.001;, score=0.642 total time=   0.0s\n",
      "[CV 2/5] END ................C=0.1, gamma=0.001;, score=0.647 total time=   0.0s\n",
      "[CV 3/5] END ................C=0.1, gamma=0.001;, score=0.622 total time=   0.0s\n",
      "[CV 4/5] END ................C=0.1, gamma=0.001;, score=0.639 total time=   0.0s\n",
      "[CV 5/5] END ................C=0.1, gamma=0.001;, score=0.664 total time=   0.0s\n",
      "[CV 1/5] END ......................C=1, gamma=1;, score=0.650 total time=   0.0s\n",
      "[CV 2/5] END ......................C=1, gamma=1;, score=0.639 total time=   0.0s\n",
      "[CV 3/5] END ......................C=1, gamma=1;, score=0.630 total time=   0.0s\n",
      "[CV 4/5] END ......................C=1, gamma=1;, score=0.681 total time=   0.0s\n",
      "[CV 5/5] END ......................C=1, gamma=1;, score=0.630 total time=   0.0s\n",
      "[CV 1/5] END ....................C=1, gamma=0.1;, score=0.650 total time=   0.0s\n",
      "[CV 2/5] END ....................C=1, gamma=0.1;, score=0.706 total time=   0.0s\n",
      "[CV 3/5] END ....................C=1, gamma=0.1;, score=0.655 total time=   0.0s\n",
      "[CV 4/5] END ....................C=1, gamma=0.1;, score=0.664 total time=   0.0s\n",
      "[CV 5/5] END ....................C=1, gamma=0.1;, score=0.613 total time=   0.0s\n",
      "[CV 1/5] END ..................C=1, gamma=0.001;, score=0.683 total time=   0.0s\n",
      "[CV 2/5] END ..................C=1, gamma=0.001;, score=0.664 total time=   0.0s\n",
      "[CV 3/5] END ..................C=1, gamma=0.001;, score=0.639 total time=   0.0s\n",
      "[CV 4/5] END ..................C=1, gamma=0.001;, score=0.681 total time=   0.0s\n",
      "[CV 5/5] END ..................C=1, gamma=0.001;, score=0.714 total time=   0.0s\n",
      "[CV 1/5] END ..................C=1, gamma=0.001;, score=0.683 total time=   0.0s\n",
      "[CV 2/5] END ..................C=1, gamma=0.001;, score=0.664 total time=   0.0s\n",
      "[CV 3/5] END ..................C=1, gamma=0.001;, score=0.639 total time=   0.0s\n",
      "[CV 4/5] END ..................C=1, gamma=0.001;, score=0.681 total time=   0.0s\n",
      "[CV 5/5] END ..................C=1, gamma=0.001;, score=0.714 total time=   0.0s\n",
      "[CV 1/5] END .....................C=10, gamma=1;, score=0.642 total time=   0.0s\n",
      "[CV 2/5] END .....................C=10, gamma=1;, score=0.622 total time=   0.0s\n",
      "[CV 3/5] END .....................C=10, gamma=1;, score=0.655 total time=   0.0s\n",
      "[CV 4/5] END .....................C=10, gamma=1;, score=0.647 total time=   0.0s\n",
      "[CV 5/5] END .....................C=10, gamma=1;, score=0.588 total time=   0.0s\n",
      "[CV 1/5] END ...................C=10, gamma=0.1;, score=0.675 total time=   0.0s\n",
      "[CV 2/5] END ...................C=10, gamma=0.1;, score=0.647 total time=   0.0s\n",
      "[CV 3/5] END ...................C=10, gamma=0.1;, score=0.681 total time=   0.0s\n",
      "[CV 4/5] END ...................C=10, gamma=0.1;, score=0.697 total time=   0.0s\n",
      "[CV 5/5] END ...................C=10, gamma=0.1;, score=0.689 total time=   0.0s\n",
      "[CV 1/5] END .................C=10, gamma=0.001;, score=0.750 total time=   0.0s\n",
      "[CV 2/5] END .................C=10, gamma=0.001;, score=0.714 total time=   0.0s\n",
      "[CV 3/5] END .................C=10, gamma=0.001;, score=0.647 total time=   0.0s\n",
      "[CV 4/5] END .................C=10, gamma=0.001;, score=0.706 total time=   0.0s\n",
      "[CV 5/5] END .................C=10, gamma=0.001;, score=0.697 total time=   0.0s\n",
      "[CV 1/5] END .................C=10, gamma=0.001;, score=0.750 total time=   0.0s\n",
      "[CV 2/5] END .................C=10, gamma=0.001;, score=0.714 total time=   0.0s\n",
      "[CV 3/5] END .................C=10, gamma=0.001;, score=0.647 total time=   0.0s\n",
      "[CV 4/5] END .................C=10, gamma=0.001;, score=0.706 total time=   0.0s\n",
      "[CV 5/5] END .................C=10, gamma=0.001;, score=0.697 total time=   0.0s\n",
      "[CV 1/5] END ....................C=100, gamma=1;, score=0.642 total time=   0.0s\n",
      "[CV 2/5] END ....................C=100, gamma=1;, score=0.605 total time=   0.0s\n",
      "[CV 3/5] END ....................C=100, gamma=1;, score=0.655 total time=   0.0s\n",
      "[CV 4/5] END ....................C=100, gamma=1;, score=0.672 total time=   0.0s\n",
      "[CV 5/5] END ....................C=100, gamma=1;, score=0.580 total time=   0.0s\n",
      "[CV 1/5] END ..................C=100, gamma=0.1;, score=0.650 total time=   0.0s\n",
      "[CV 2/5] END ..................C=100, gamma=0.1;, score=0.630 total time=   0.0s\n",
      "[CV 3/5] END ..................C=100, gamma=0.1;, score=0.681 total time=   0.0s\n",
      "[CV 4/5] END ..................C=100, gamma=0.1;, score=0.697 total time=   0.0s\n",
      "[CV 5/5] END ..................C=100, gamma=0.1;, score=0.597 total time=   0.0s\n",
      "[CV 1/5] END ................C=100, gamma=0.001;, score=0.742 total time=   0.0s\n",
      "[CV 2/5] END ................C=100, gamma=0.001;, score=0.849 total time=   0.0s\n",
      "[CV 3/5] END ................C=100, gamma=0.001;, score=0.739 total time=   0.0s\n",
      "[CV 4/5] END ................C=100, gamma=0.001;, score=0.798 total time=   0.0s\n",
      "[CV 5/5] END ................C=100, gamma=0.001;, score=0.807 total time=   0.0s\n",
      "[CV 1/5] END ................C=100, gamma=0.001;, score=0.742 total time=   0.0s\n",
      "[CV 2/5] END ................C=100, gamma=0.001;, score=0.849 total time=   0.0s\n",
      "[CV 3/5] END ................C=100, gamma=0.001;, score=0.739 total time=   0.0s\n",
      "[CV 4/5] END ................C=100, gamma=0.001;, score=0.798 total time=   0.0s\n",
      "[CV 5/5] END ................C=100, gamma=0.001;, score=0.807 total time=   0.0s\n"
     ]
    },
    {
     "data": {
      "text/html": [
       "<style>#sk-container-id-13 {color: black;background-color: white;}#sk-container-id-13 pre{padding: 0;}#sk-container-id-13 div.sk-toggleable {background-color: white;}#sk-container-id-13 label.sk-toggleable__label {cursor: pointer;display: block;width: 100%;margin-bottom: 0;padding: 0.3em;box-sizing: border-box;text-align: center;}#sk-container-id-13 label.sk-toggleable__label-arrow:before {content: \"▸\";float: left;margin-right: 0.25em;color: #696969;}#sk-container-id-13 label.sk-toggleable__label-arrow:hover:before {color: black;}#sk-container-id-13 div.sk-estimator:hover label.sk-toggleable__label-arrow:before {color: black;}#sk-container-id-13 div.sk-toggleable__content {max-height: 0;max-width: 0;overflow: hidden;text-align: left;background-color: #f0f8ff;}#sk-container-id-13 div.sk-toggleable__content pre {margin: 0.2em;color: black;border-radius: 0.25em;background-color: #f0f8ff;}#sk-container-id-13 input.sk-toggleable__control:checked~div.sk-toggleable__content {max-height: 200px;max-width: 100%;overflow: auto;}#sk-container-id-13 input.sk-toggleable__control:checked~label.sk-toggleable__label-arrow:before {content: \"▾\";}#sk-container-id-13 div.sk-estimator input.sk-toggleable__control:checked~label.sk-toggleable__label {background-color: #d4ebff;}#sk-container-id-13 div.sk-label input.sk-toggleable__control:checked~label.sk-toggleable__label {background-color: #d4ebff;}#sk-container-id-13 input.sk-hidden--visually {border: 0;clip: rect(1px 1px 1px 1px);clip: rect(1px, 1px, 1px, 1px);height: 1px;margin: -1px;overflow: hidden;padding: 0;position: absolute;width: 1px;}#sk-container-id-13 div.sk-estimator {font-family: monospace;background-color: #f0f8ff;border: 1px dotted black;border-radius: 0.25em;box-sizing: border-box;margin-bottom: 0.5em;}#sk-container-id-13 div.sk-estimator:hover {background-color: #d4ebff;}#sk-container-id-13 div.sk-parallel-item::after {content: \"\";width: 100%;border-bottom: 1px solid gray;flex-grow: 1;}#sk-container-id-13 div.sk-label:hover label.sk-toggleable__label {background-color: #d4ebff;}#sk-container-id-13 div.sk-serial::before {content: \"\";position: absolute;border-left: 1px solid gray;box-sizing: border-box;top: 0;bottom: 0;left: 50%;z-index: 0;}#sk-container-id-13 div.sk-serial {display: flex;flex-direction: column;align-items: center;background-color: white;padding-right: 0.2em;padding-left: 0.2em;position: relative;}#sk-container-id-13 div.sk-item {position: relative;z-index: 1;}#sk-container-id-13 div.sk-parallel {display: flex;align-items: stretch;justify-content: center;background-color: white;position: relative;}#sk-container-id-13 div.sk-item::before, #sk-container-id-13 div.sk-parallel-item::before {content: \"\";position: absolute;border-left: 1px solid gray;box-sizing: border-box;top: 0;bottom: 0;left: 50%;z-index: -1;}#sk-container-id-13 div.sk-parallel-item {display: flex;flex-direction: column;z-index: 1;position: relative;background-color: white;}#sk-container-id-13 div.sk-parallel-item:first-child::after {align-self: flex-end;width: 50%;}#sk-container-id-13 div.sk-parallel-item:last-child::after {align-self: flex-start;width: 50%;}#sk-container-id-13 div.sk-parallel-item:only-child::after {width: 0;}#sk-container-id-13 div.sk-dashed-wrapped {border: 1px dashed gray;margin: 0 0.4em 0.5em 0.4em;box-sizing: border-box;padding-bottom: 0.4em;background-color: white;}#sk-container-id-13 div.sk-label label {font-family: monospace;font-weight: bold;display: inline-block;line-height: 1.2em;}#sk-container-id-13 div.sk-label-container {text-align: center;}#sk-container-id-13 div.sk-container {/* jupyter's `normalize.less` sets `[hidden] { display: none; }` but bootstrap.min.css set `[hidden] { display: none !important; }` so we also need the `!important` here to be able to override the default hidden behavior on the sphinx rendered scikit-learn.org. See: https://github.com/scikit-learn/scikit-learn/issues/21755 */display: inline-block !important;position: relative;}#sk-container-id-13 div.sk-text-repr-fallback {display: none;}</style><div id=\"sk-container-id-13\" class=\"sk-top-container\"><div class=\"sk-text-repr-fallback\"><pre>GridSearchCV(estimator=SVC(),\n",
       "             param_grid={&#x27;C&#x27;: [0.1, 1, 10, 100],\n",
       "                         &#x27;gamma&#x27;: [1, 0.1, 0.001, 0.001]},\n",
       "             verbose=3)</pre><b>In a Jupyter environment, please rerun this cell to show the HTML representation or trust the notebook. <br />On GitHub, the HTML representation is unable to render, please try loading this page with nbviewer.org.</b></div><div class=\"sk-container\" hidden><div class=\"sk-item sk-dashed-wrapped\"><div class=\"sk-label-container\"><div class=\"sk-label sk-toggleable\"><input class=\"sk-toggleable__control sk-hidden--visually\" id=\"sk-estimator-id-27\" type=\"checkbox\" ><label for=\"sk-estimator-id-27\" class=\"sk-toggleable__label sk-toggleable__label-arrow\">GridSearchCV</label><div class=\"sk-toggleable__content\"><pre>GridSearchCV(estimator=SVC(),\n",
       "             param_grid={&#x27;C&#x27;: [0.1, 1, 10, 100],\n",
       "                         &#x27;gamma&#x27;: [1, 0.1, 0.001, 0.001]},\n",
       "             verbose=3)</pre></div></div></div><div class=\"sk-parallel\"><div class=\"sk-parallel-item\"><div class=\"sk-item\"><div class=\"sk-label-container\"><div class=\"sk-label sk-toggleable\"><input class=\"sk-toggleable__control sk-hidden--visually\" id=\"sk-estimator-id-28\" type=\"checkbox\" ><label for=\"sk-estimator-id-28\" class=\"sk-toggleable__label sk-toggleable__label-arrow\">estimator: SVC</label><div class=\"sk-toggleable__content\"><pre>SVC()</pre></div></div></div><div class=\"sk-serial\"><div class=\"sk-item\"><div class=\"sk-estimator sk-toggleable\"><input class=\"sk-toggleable__control sk-hidden--visually\" id=\"sk-estimator-id-29\" type=\"checkbox\" ><label for=\"sk-estimator-id-29\" class=\"sk-toggleable__label sk-toggleable__label-arrow\">SVC</label><div class=\"sk-toggleable__content\"><pre>SVC()</pre></div></div></div></div></div></div></div></div></div></div>"
      ],
      "text/plain": [
       "GridSearchCV(estimator=SVC(),\n",
       "             param_grid={'C': [0.1, 1, 10, 100],\n",
       "                         'gamma': [1, 0.1, 0.001, 0.001]},\n",
       "             verbose=3)"
      ]
     },
     "execution_count": 80,
     "metadata": {},
     "output_type": "execute_result"
    }
   ],
   "source": [
    "gs.fit(X_train,y_train)"
   ]
  },
  {
   "cell_type": "markdown",
   "id": "cba28fd4",
   "metadata": {},
   "source": [
    "***Prediction of test dataset***"
   ]
  },
  {
   "cell_type": "code",
   "execution_count": 81,
   "id": "fffdafe1",
   "metadata": {},
   "outputs": [],
   "source": [
    "grid_predictions = gs.predict(test)"
   ]
  },
  {
   "cell_type": "markdown",
   "id": "d6396591",
   "metadata": {},
   "source": [
    "***Build a DataFrame***"
   ]
  },
  {
   "cell_type": "code",
   "execution_count": 82,
   "id": "9a057c1d",
   "metadata": {},
   "outputs": [
    {
     "name": "stdout",
     "output_type": "stream",
     "text": [
      "     PassengerId  Survived\n",
      "0            892         0\n",
      "1            893         1\n",
      "2            894         0\n",
      "3            895         0\n",
      "4            896         1\n",
      "..           ...       ...\n",
      "413         1305         0\n",
      "414         1306         1\n",
      "415         1307         0\n",
      "416         1308         0\n",
      "417         1309         0\n",
      "\n",
      "[418 rows x 2 columns]\n"
     ]
    }
   ],
   "source": [
    "df = pd.DataFrame({\"PassengerId\" : test_pid  ,\"Survived\":grid_predictions})\n",
    "print(df)"
   ]
  },
  {
   "cell_type": "markdown",
   "id": "e875e660",
   "metadata": {},
   "source": [
    "***Export the result***"
   ]
  },
  {
   "cell_type": "code",
   "execution_count": 83,
   "id": "786efa6a",
   "metadata": {},
   "outputs": [],
   "source": [
    "df.to_csv(\"submission_svm.csv\",index=False)"
   ]
  }
 ],
 "metadata": {
  "kernelspec": {
   "display_name": "Python 3 (ipykernel)",
   "language": "python",
   "name": "python3"
  },
  "language_info": {
   "codemirror_mode": {
    "name": "ipython",
    "version": 3
   },
   "file_extension": ".py",
   "mimetype": "text/x-python",
   "name": "python",
   "nbconvert_exporter": "python",
   "pygments_lexer": "ipython3",
   "version": "3.10.9"
  }
 },
 "nbformat": 4,
 "nbformat_minor": 5
}
